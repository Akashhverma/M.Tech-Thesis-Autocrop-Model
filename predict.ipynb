{
 "cells": [
  {
   "cell_type": "code",
   "execution_count": null,
   "id": "21e84ccc-24e6-4453-97e9-08364ca1c0f1",
   "metadata": {},
   "outputs": [],
   "source": [
    "from ultralytics import YOLO\n",
    "\n",
    "# Load the trained model\n",
    "model = YOLO(r\"file_address_for_best.pt\")\n",
    "\n",
    "# Test the model on a single image\n",
    "source_path = r\"file_address_for_image_to_predict\"\n",
    "results = model.predict(source=source_path, save=True, imgsz=640)\n",
    "\n",
    "# Iterate through the results list\n",
    "for result in results:\n",
    "    result.show()  # Display the predictions\n"
   ]
  }
 ],
 "metadata": {
  "kernelspec": {
   "display_name": "Python 3 (ipykernel)",
   "language": "python",
   "name": "python3"
  },
  "language_info": {
   "codemirror_mode": {
    "name": "ipython",
    "version": 3
   },
   "file_extension": ".py",
   "mimetype": "text/x-python",
   "name": "python",
   "nbconvert_exporter": "python",
   "pygments_lexer": "ipython3",
   "version": "3.12.4"
  }
 },
 "nbformat": 4,
 "nbformat_minor": 5
}
