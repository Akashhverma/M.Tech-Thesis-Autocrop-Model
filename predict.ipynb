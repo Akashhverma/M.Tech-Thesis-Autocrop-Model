{
 "cells": [
  {
   "cell_type": "code",
   "execution_count": null,
   "id": "d6a7e192-1556-417d-93ed-80845ada3d71",
   "metadata": {},
   "outputs": [],
   "source": []
  },
  {
   "cell_type": "code",
   "execution_count": 22,
   "id": "78b3d342-f76f-407c-88f9-b3d0c0b7c7a2",
   "metadata": {},
   "outputs": [
    {
     "name": "stdout",
     "output_type": "stream",
     "text": [
      "\n",
      "image 1/1 D:\\MUSIC N JOY\\zIIT DELHI\\Mtech Project\\dataset\\test\\50miuS (30).jpg: 640x480 1 ROI, 1 C, 223.4ms\n",
      "Speed: 16.0ms preprocess, 223.4ms inference, 0.0ms postprocess per image at shape (1, 3, 640, 480)\n",
      "Results saved to \u001b[1mD:\\MUSIC N JOY\\zIIT DELHI\\Mtech Project\\results11\\cropped_images\u001b[0m\n"
     ]
    }
   ],
   "source": [
    "from ultralytics import YOLO\n",
    "\n",
    "# Load the trained model\n",
    "model = YOLO(r\"C:\\Users\\Akash\\Downloads\\best.pt\")\n",
    "\n",
    "# Test the model on a single image and save cropped regions to a custom directory\n",
    "source_path = r\"D:\\MUSIC N JOY\\zIIT DELHI\\Mtech Project\\dataset\\test\\50miuS (30).jpg\"\n",
    "output_path = r\"D:\\MUSIC N JOY\\zIIT DELHI\\Mtech Project\\results11\"  # Custom directory to save files\n",
    "\n",
    "results = model.predict(source=source_path, save=True, save_crop=True, imgsz=640, project=output_path, name='cropped_images')\n",
    "\n",
    "# Iterate through the results to display the predictions\n",
    "for result in results:\n",
    "    result.show()  # Display the predictions\n"
   ]
  },
  {
   "cell_type": "code",
   "execution_count": null,
   "id": "31646dd6-bc7d-41e8-9858-2fa7c27f2e98",
   "metadata": {},
   "outputs": [],
   "source": []
  }
 ],
 "metadata": {
  "kernelspec": {
   "display_name": "Python 3 (ipykernel)",
   "language": "python",
   "name": "python3"
  },
  "language_info": {
   "codemirror_mode": {
    "name": "ipython",
    "version": 3
   },
   "file_extension": ".py",
   "mimetype": "text/x-python",
   "name": "python",
   "nbconvert_exporter": "python",
   "pygments_lexer": "ipython3",
   "version": "3.12.4"
  }
 },
 "nbformat": 4,
 "nbformat_minor": 5
}
